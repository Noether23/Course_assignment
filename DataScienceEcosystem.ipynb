{
 "cells": [
  {
   "cell_type": "markdown",
   "id": "b4b20650",
   "metadata": {},
   "source": [
    "# Data Science Tools and Ecosystem"
   ]
  },
  {
   "cell_type": "markdown",
   "id": "a051c4bf",
   "metadata": {},
   "source": [
    "In this notebook, Data Science Tools and Ecosystem are summarized.\n",
    "\n",
    "**Objectives :**\n",
    "* Languages used in data science\n",
    "* Libraries used in data scienece\n",
    "* Data science tools\n",
    "* Example of an arithmatic operations\n",
    "* Conversion of minutes to hours"
   ]
  },
  {
   "cell_type": "markdown",
   "id": "dd12bc41",
   "metadata": {},
   "source": [
    "Some of the languages that data scientist uses are,\n",
    "1. Python\n",
    "2. R\n",
    "3. Java\n",
    "4. Scala"
   ]
  },
  {
   "cell_type": "markdown",
   "id": "2ef693ee",
   "metadata": {},
   "source": [
    "Some of the libraries commonly used by data scientists include,\n",
    "1. Numpy\n",
    "2. pandas\n",
    "3. matplotlib\n",
    "4. scikit learn"
   ]
  },
  {
   "cell_type": "markdown",
   "id": "667a58f4",
   "metadata": {},
   "source": [
    "|Data Science Tools|\n",
    "|------------------|\n",
    "|Jupyter Notebook|\n",
    "|RStudio|\n",
    "|VScode|\n",
    "|IBM Watson Studio |"
   ]
  },
  {
   "cell_type": "markdown",
   "id": "75bdc592",
   "metadata": {},
   "source": [
    "### Below are a few examples of evaluating arithmatic expression in Python"
   ]
  },
  {
   "cell_type": "code",
   "execution_count": 8,
   "id": "c89e0b27",
   "metadata": {},
   "outputs": [
    {
     "data": {
      "text/plain": [
       "17"
      ]
     },
     "execution_count": 8,
     "metadata": {},
     "output_type": "execute_result"
    }
   ],
   "source": [
    "# This is a simple arithmatic expression to multiply then add integers\n",
    "(3*4)+5"
   ]
  },
  {
   "cell_type": "code",
   "execution_count": 9,
   "id": "9876bd83",
   "metadata": {},
   "outputs": [
    {
     "data": {
      "text/plain": [
       "3.3333333333333335"
      ]
     },
     "execution_count": 9,
     "metadata": {},
     "output_type": "execute_result"
    }
   ],
   "source": [
    "# This will convert 200 minutes to hours by diving by 60\n",
    "200/60"
   ]
  },
  {
   "cell_type": "markdown",
   "id": "dfaaba14",
   "metadata": {},
   "source": [
    "## Author\n",
    "Rebeka Sarkar"
   ]
  },
  {
   "cell_type": "code",
   "execution_count": null,
   "id": "26c805ac",
   "metadata": {},
   "outputs": [],
   "source": []
  }
 ],
 "metadata": {
  "kernelspec": {
   "display_name": "Python 3 (ipykernel)",
   "language": "python",
   "name": "python3"
  },
  "language_info": {
   "codemirror_mode": {
    "name": "ipython",
    "version": 3
   },
   "file_extension": ".py",
   "mimetype": "text/x-python",
   "name": "python",
   "nbconvert_exporter": "python",
   "pygments_lexer": "ipython3",
   "version": "3.11.4"
  }
 },
 "nbformat": 4,
 "nbformat_minor": 5
}
